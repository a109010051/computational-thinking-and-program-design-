{
  "nbformat": 4,
  "nbformat_minor": 0,
  "metadata": {
    "colab": {
      "name": "王小萌/week2/練習作業.ipynb",
      "provenance": [],
      "authorship_tag": "ABX9TyNZrQldOxanU/rSq87scwfm",
      "include_colab_link": true
    },
    "kernelspec": {
      "name": "python3",
      "display_name": "Python 3"
    }
  },
  "cells": [
    {
      "cell_type": "markdown",
      "metadata": {
        "id": "view-in-github",
        "colab_type": "text"
      },
      "source": [
        "<a href=\"https://colab.research.google.com/github/a109010051/computational-thinking-and-program-design-/blob/main/%E7%8E%8B%E5%B0%8F%E8%90%8C_week2_%E7%B7%B4%E7%BF%92%E4%BD%9C%E6%A5%AD.ipynb\" target=\"_parent\"><img src=\"https://colab.research.google.com/assets/colab-badge.svg\" alt=\"Open In Colab\"/></a>"
      ]
    },
    {
      "cell_type": "code",
      "metadata": {
        "colab": {
          "base_uri": "https://localhost:8080/"
        },
        "id": "0GLOYuFxS-J4",
        "outputId": "345d7ead-0606-4c40-8a44-f4260bf0bb9a"
      },
      "source": [
        "print(1+1)"
      ],
      "execution_count": 2,
      "outputs": [
        {
          "output_type": "stream",
          "text": [
            "2\n"
          ],
          "name": "stdout"
        }
      ]
    },
    {
      "cell_type": "code",
      "metadata": {
        "colab": {
          "base_uri": "https://localhost:8080/"
        },
        "id": "B5GdoxNzUBy6",
        "outputId": "a92ce189-248d-452e-8413-a3354301f2c2"
      },
      "source": [
        "print(\"Hello world\")"
      ],
      "execution_count": 3,
      "outputs": [
        {
          "output_type": "stream",
          "text": [
            "Hello world\n"
          ],
          "name": "stdout"
        }
      ]
    },
    {
      "cell_type": "code",
      "metadata": {
        "id": "0vXVTxetUWzW"
      },
      "source": [
        ""
      ],
      "execution_count": null,
      "outputs": []
    },
    {
      "cell_type": "markdown",
      "metadata": {
        "id": "73T2qZABbToE"
      },
      "source": [
        "google colab 操作步驟\r\n",
        "\r\n",
        "step1: \r\n",
        "\r\n",
        "step2:\r\n",
        "\r\n",
        "step3:"
      ]
    },
    {
      "cell_type": "code",
      "metadata": {
        "id": "YurKcm_ybjN_"
      },
      "source": [
        ""
      ],
      "execution_count": null,
      "outputs": []
    },
    {
      "cell_type": "markdown",
      "metadata": {
        "id": "tf-1pTVHbpyi"
      },
      "source": [
        "回家作業"
      ]
    },
    {
      "cell_type": "code",
      "metadata": {
        "id": "g_z6gSt_buF5"
      },
      "source": [
        ""
      ],
      "execution_count": null,
      "outputs": []
    }
  ]
}