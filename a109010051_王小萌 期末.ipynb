{
  "nbformat": 4,
  "nbformat_minor": 0,
  "metadata": {
    "colab": {
      "name": "a109010051 王小萌.ipynb",
      "provenance": [],
      "authorship_tag": "ABX9TyPs9tzkXLGVoW5waaDRV9Ea",
      "include_colab_link": true
    },
    "kernelspec": {
      "name": "python3",
      "display_name": "Python 3"
    },
    "language_info": {
      "name": "python"
    }
  },
  "cells": [
    {
      "cell_type": "markdown",
      "metadata": {
        "id": "view-in-github",
        "colab_type": "text"
      },
      "source": [
        "<a href=\"https://colab.research.google.com/github/a109010051/computational-thinking-and-program-design-/blob/main/a109010051_%E7%8E%8B%E5%B0%8F%E8%90%8C%20%E6%9C%9F%E6%9C%AB.ipynb\" target=\"_parent\"><img src=\"https://colab.research.google.com/assets/colab-badge.svg\" alt=\"Open In Colab\"/></a>"
      ]
    },
    {
      "cell_type": "code",
      "metadata": {
        "colab": {
          "base_uri": "https://localhost:8080/"
        },
        "id": "UtRVDwM4EEoN",
        "outputId": "4c7fce4c-cdaf-4a0c-d3a4-a2221f8f0875"
      },
      "source": [
        "name = input(\"嗨你好請問你是\")\n",
        "print(f\"你好{name}你怎麼會出現在這裡?是發生甚麼事嗎?\")\n",
        "print(\"主角回:我的狗不見了你有看到一隻哈士奇嗎?\")\n",
        "print(\"他在前面那個岔路出現過\")\n",
        "answer = input(\"到了岔路後要走(A or Ｂ)\")\n",
        "...\n",
        "...\n",
        "if answer == \"B\":\n",
        " print(\"走了一小段路後突然有人攔住說\")\n",
        " print(\"你是來找狗的嗎？如果是的話要在之前那個岔路往A走\")\n",
        " print(\"主角：好那我走回去看看\")\n",
        " print(\"請重新開始\")\n",
        "else:\n",
        "   print(\"看到了一個鐵皮屋\")\n",
        "   print(\"鐵皮屋裡傳來奇怪的味道\")\n",
        "   print(\"你帶著緊張的心情慢慢靠近\")\n",
        "   print(\"到了鐵皮屋門口你發現裡面有狗叫聲\")\n",
        "   print(\"在外面觀察了一下便走了進去\")\n",
        "   print(\"進去了後奇怪的味道越來越強烈\")\n",
        "   print(\"你也聽到了一些微弱的叫聲\")\n",
        "   print(\"你便往地下室走去\")\n",
        "   print(\"地下室傳來金屬撞擊的聲音\")\n",
        "   print(\"你很擔心你的狗是否安全\")\n",
        "   print(\"馬上跑了過去\")\n",
        "   print(\"結果發現\")\n",
        "   print(\"你家的狗跟其他狗聚在一起聊天\")\n",
        "   print(\"你的哈士奇還會煮飯\")\n",
        "   print(\"哈士奇問你要不要吃一點\")\n",
        "answer = input(\"Yes or Yes\")\n",
        "if answer == \"Yes\":\n",
        "    print(\"吃了後發現還不錯吃\")\n",
        "    print(\"結果頭抬起來\")\n",
        "    print(\"發現這只是場夢\")\n",
        "    print(\"你的狗狗躺在你臉上睡得很好\")"
      ],
      "execution_count": 2,
      "outputs": [
        {
          "output_type": "stream",
          "text": [
            "嗨你好請問你是2\n",
            "你好2你怎麼會出現在這裡?是發生甚麼事嗎?\n",
            "主角回:我的狗不見了你有看到一隻哈士奇嗎?\n",
            "他在前面那個岔路出現過\n",
            "到了岔路後要走(A or Ｂ)A\n",
            "看到了一個鐵皮屋\n",
            "鐵皮屋裡傳來奇怪的味道\n",
            "你帶著緊張的心情慢慢靠近\n",
            "到了鐵皮屋門口你發現裡面有狗叫聲\n",
            "在外面觀察了一下便走了進去\n",
            "進去了後奇怪的味道越來越強烈\n",
            "你也聽到了一些微弱的叫聲\n",
            "你便往地下室走去\n",
            "地下室傳來金屬撞擊的聲音\n",
            "你很擔心你的狗是否安全\n",
            "馬上跑了過去\n",
            "結果發現\n",
            "你家的狗跟其他狗聚在一起聊天\n",
            "你的哈士奇還會煮飯\n",
            "哈士奇問你要不要吃一點\n",
            "Yes or YesYes\n",
            "吃了後發現還不錯吃\n",
            "結果頭抬起來\n",
            "發現這只是場夢\n",
            "你的狗狗躺在你臉上睡得很好\n"
          ],
          "name": "stdout"
        }
      ]
    }
  ]
}