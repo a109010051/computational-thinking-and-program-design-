{
  "nbformat": 4,
  "nbformat_minor": 0,
  "metadata": {
    "colab": {
      "name": "王小萌-隨堂練習-week12.ipynb",
      "provenance": [],
      "authorship_tag": "ABX9TyPoKAs4h9rix6CyEJ7bm80C",
      "include_colab_link": true
    },
    "kernelspec": {
      "name": "python3",
      "display_name": "Python 3"
    },
    "language_info": {
      "name": "python"
    }
  },
  "cells": [
    {
      "cell_type": "markdown",
      "metadata": {
        "id": "view-in-github",
        "colab_type": "text"
      },
      "source": [
        "<a href=\"https://colab.research.google.com/github/a109010051/computational-thinking-and-program-design-/blob/main/%E7%8E%8B%E5%B0%8F%E8%90%8C_%E9%9A%A8%E5%A0%82%E7%B7%B4%E7%BF%92_week12.ipynb\" target=\"_parent\"><img src=\"https://colab.research.google.com/assets/colab-badge.svg\" alt=\"Open In Colab\"/></a>"
      ]
    },
    {
      "cell_type": "code",
      "metadata": {
        "colab": {
          "base_uri": "https://localhost:8080/"
        },
        "id": "44rx43opp_YK",
        "outputId": "192e991f-387b-4310-8373-e7f6d24083ae"
      },
      "source": [
        " In [3]: ## 數字資料 （一）\n",
        "...: num = int(input(\"請輸入一個數字: \"))\n",
        "...: if num > 0:\n",
        "...:    print(\"數字為正數\")\n",
        "...: print(\"比較完畢\")\n",
        "...: # 輸入5, 10, -3看結果"
      ],
      "execution_count": 4,
      "outputs": [
        {
          "output_type": "stream",
          "text": [
            "請輸入一個數字: 5\n",
            "數字為正數\n",
            "比較完畢\n"
          ],
          "name": "stdout"
        }
      ]
    },
    {
      "cell_type": "code",
      "metadata": {
        "colab": {
          "base_uri": "https://localhost:8080/"
        },
        "id": "JuD8DUtDzKKw",
        "outputId": "ef3d4f6f-4fa6-410c-b980-cc6ade6bc54a"
      },
      "source": [
        "num=5\n",
        "if num > 0:\n",
        "   print(\"the number is positive\")\n",
        "print(\"finish\")"
      ],
      "execution_count": 5,
      "outputs": [
        {
          "output_type": "stream",
          "text": [
            "the number is positive\n",
            "finish\n"
          ],
          "name": "stdout"
        }
      ]
    },
    {
      "cell_type": "code",
      "metadata": {
        "colab": {
          "base_uri": "https://localhost:8080/"
        },
        "id": "E6WQIkAVzdrB",
        "outputId": "2daa0987-7138-48e7-cfee-32bf0c63c93a"
      },
      "source": [
        "In [5]: num = int(input(\"輸入一個數字： \"))\n",
        "...:  \n",
        "...: if num > 0:\n",
        "...:  print(\"是正數\")\n",
        "...: if num < 0:\n",
        "...:  print(\"是負數\")\n",
        "...: if num == 0:\n",
        "...:  print(\"數字是0\")\n",
        "...: print(\"比較完畢！\")"
      ],
      "execution_count": 6,
      "outputs": [
        {
          "output_type": "stream",
          "text": [
            "輸入一個數字： 0\n",
            "數字是0\n",
            "比較完畢！\n"
          ],
          "name": "stdout"
        }
      ]
    },
    {
      "cell_type": "code",
      "metadata": {
        "colab": {
          "base_uri": "https://localhost:8080/"
        },
        "id": "4qGpD5zyzs_B",
        "outputId": "9954b956-56dc-43d7-9dc6-4071df0a22ec"
      },
      "source": [
        "In [6]: ## 巢狀條件式\n",
        "...: num_a = int(input(\"輸入第一個數字？ \"))\n",
        "...: num_b = int(input(\"輸入第二個數字？ \"))\n",
        "...:\n",
        "...: if num_a < 0:\n",
        "...:  print(\"第一個是負數\")\n",
        "...: if num_b < 0:\n",
        "...:  print(\"第二個也是負數\")\n",
        "...: print(\"比較完成\")"
      ],
      "execution_count": 8,
      "outputs": [
        {
          "output_type": "stream",
          "text": [
            "輸入第一個數字？ 5\n",
            "輸入第二個數字？ 8\n",
            "比較完成\n"
          ],
          "name": "stdout"
        }
      ]
    },
    {
      "cell_type": "markdown",
      "metadata": {
        "id": "yn1mHWmv0JHh"
      },
      "source": [
        "隨堂練習:滿2000打九折"
      ]
    },
    {
      "cell_type": "code",
      "metadata": {
        "colab": {
          "base_uri": "https://localhost:8080/"
        },
        "id": "1gfUQLIu0Vm5",
        "outputId": "e24843e7-4b8a-4de3-d995-69bb9d6ac80e"
      },
      "source": [
        "price = int(input('請輸入一個價格'))\n",
        "if price >= 2000:\n",
        "  print('打9折呦')\n",
        "if price < 2000:\n",
        "  print('沒打折喲!')"
      ],
      "execution_count": 9,
      "outputs": [
        {
          "output_type": "stream",
          "text": [
            "請輸入一個價格2000\n",
            "打9折呦\n"
          ],
          "name": "stdout"
        }
      ]
    }
  ]
}